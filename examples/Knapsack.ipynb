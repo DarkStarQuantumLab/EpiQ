{
 "cells": [
  {
   "cell_type": "markdown",
   "metadata": {},
   "source": [
    "# Classical and Quantum Knapsack"
   ]
  },
  {
   "cell_type": "markdown",
   "metadata": {},
   "source": [
    "The Optimization class creates an object which is to be used for doing epidemiology evolution and lockdown management.\n",
    "\n",
    "The Optimization class attributes:\n",
    "\n",
    "    - solver_type:\n",
    "        1. \"classical\" for a classical computer (CPU)\n",
    "        2. \"quantum\" for DWave's Quantum Annealer device\n",
    "        3. \"simulated_annealing\" for DWave's Simulated Annealing Algorithm.\n",
    "    - model_name: the name of the model (SIR, SEIR, SEIRD, SIRD, SEIRDV).\n",
    "    - data_frame: a pandas DataFrame instance with the initial dataset (csv format).\n",
    "    - distance_dataframe: a pandas DataFrame instance which stores information about the transmission of virus between cities.\n",
    "    - max_infected_limit: states the threshold for maximum infected limit, beyond which lockdown will be implemented\n",
    "    - model_property: a python dict dataset that defines the knapsack properties. It lets the user to select the columns from the given dataframe, which are to be used a maximizing factor, minizing factor and max weight capcity factor (sum of the column’s values). A model property example: {'max': 'GDP', 'min': 'infected, 'maxWeight':'Bed'}.\n"
   ]
  },
  {
   "cell_type": "code",
   "execution_count": 2,
   "metadata": {},
   "outputs": [],
   "source": [
    "import sys\n",
    "sys.path.append(\"../src/\")\n",
    "\n",
    "from optimization import *\n",
    "from modelplot import *\n",
    "import pandas as pd\n",
    "\n",
    "# load data\n",
    "dataFrame=pd.read_csv('../data/data.csv') \n",
    "timePoints=[x for x in range(1,50)]\n",
    "distanceDataFrame = pd.read_csv('../data/distance.csv', index_col=0, header=0)\n",
    "\n",
    "# define a model property\n",
    "model_property = {'max':'GDP', 'min':'infected', 'maxWeight':'Bed'}\n",
    "\n",
    "# an example of simulated annealing solver  \n",
    "optimize_SIR_model = Optimization(model_name = 'SIR', data_frame=dataFrame, distance_dataframe=distanceDataFrame,\n",
    "                                  solver_type='simulated_annealing', max_infected_limit=50050,\n",
    "                                  model_property=model_property, lockdown_strength=80)\n",
    "\n",
    "# an example of classical solver \n",
    "optimize_SEIR_model = Optimization(model_name = 'SEIR', data_frame=dataFrame, distance_dataframe=distanceDataFrame,\n",
    "                                   solver_type='classical', max_infected_limit=50050,\n",
    "                                   model_property=model_property, lockdown_strength=80)\n",
    "\n",
    "# an example of quantum solver. The DWave cloud API is required to use this option. \n",
    "optimize_SIRD_model = Optimization(model_name = 'SIRD', data_frame=dataFrame, distance_dataframe=distanceDataFrame,\n",
    "                                   solver_type='quantum', max_infected_limit=50050,\n",
    "                                   model_property=model_property, lockdown_strength=80)\n",
    "\n",
    "optimize_SEIRD_model = Optimization(model_name = 'SEIRD', data_frame=dataFrame, distance_dataframe=distanceDataFrame,\n",
    "                                    solver_type='simulated_annealing', max_infected_limit=50050,\n",
    "                                    model_property=model_property, lockdown_strength=80)\n",
    "\n",
    "optimize_SEIivIcvRDVIm_model = Optimization(model_name = 'SEIivIcvRDVIm', data_frame=dataFrame, distance_dataframe=distanceDataFrame,\n",
    "                                            solver_type='simulated_annealing', max_infected_limit=50050,\n",
    "                                            model_property=model_property, lockdown_strength=80)\n"
   ]
  },
  {
   "cell_type": "markdown",
   "metadata": {},
   "source": [
    "After an instance of the Optimization class is created, the *optimize()* method is called, and the Epidemiology model evaluation and lockdown decision are performed using knapsack.\n",
    "\n",
    "Parameters of the *optimize()* method:\n",
    "\n",
    "     - time: the total time for evolution.\n",
    "     - interval: intervals wihtin the evolution\n",
    "     - verbose: shows the detailed output of evolution stepwise. The default value is False."
   ]
  },
  {
   "cell_type": "code",
   "execution_count": null,
   "metadata": {},
   "outputs": [
    {
     "name": "stdout",
     "output_type": "stream",
     "text": [
      "=========================================\n",
      "Time: 15Interval: 5\n",
      "\n",
      "\n",
      "DataSet Before: \n",
      "    susceptible  infected  recovered\n",
      "0      1563490         0          0\n",
      "1      1249034         0          0\n",
      "2       980045         0          0\n",
      "\n",
      "\n",
      "DataSet After: \n",
      "            susceptible             infected            recovered\n",
      "0         1,162,713.24           104,896.05           295,880.71\n",
      "1           928,863.21            83,798.90           236,371.89\n",
      "2           728,825.43            65,752.17           185,467.40\n",
      "\n",
      "O: Open City, X: Close city\n",
      "   State Days -->  0  5 10\n",
      "0         city 1  O  X  X\n",
      "1         city 2  O  X  X\n",
      "2         city 3  O  X  X\n",
      "=========================================\n",
      "Time: 15Interval: 5\n",
      "\n",
      "\n",
      "DataSet Before: \n",
      "    susceptible  exposed  infected  recovered\n",
      "0      1563490      100         0          0\n",
      "1      1249034        0         0          0\n",
      "2       980045        0         0          0\n",
      "\n",
      "\n",
      "DataSet After: \n",
      "            susceptible              exposed             infected            recovered\n",
      "0         1,421,901.12            48,451.02            48,151.83            44,986.03\n",
      "1           964,897.71           157,332.52            80,080.28            46,723.50\n",
      "2           892,180.48            30,091.33            29,885.86            27,887.33\n",
      "\n",
      "O: Open City, X: Close city\n",
      "   State Days -->  0  5 10\n",
      "0         city 1  O  O  X\n",
      "1         city 2  O  O  O\n",
      "2         city 3  O  O  X\n",
      "=========================================\n",
      "Time: 15Interval: 5\n",
      "\n",
      "\n",
      "DataSet Before: \n",
      "    susceptible  exposed  infected  recovered  dead\n",
      "0      1563490      100         0          0     0\n",
      "1      1249034        0         0          0     0\n",
      "2       980045        0         0          0     0\n",
      "\n",
      "\n",
      "DataSet After: \n",
      "            susceptible              exposed             infected            recovered                 dead\n",
      "0         1,523,492.89            13,594.11             9,705.30            16,482.42               215.28\n",
      "1         1,217,406.23            10,767.96             7,679.09            13,010.78               169.94\n",
      "2           955,228.51             8,449.00             6,025.34            10,208.81               133.34\n",
      "\n",
      "O: Open City, X: Close city\n",
      "   State Days -->  0  5 10\n",
      "0         city 1  O  X  X\n",
      "1         city 2  O  X  X\n",
      "2         city 3  O  X  X\n",
      "=========================================\n",
      "Time: 15Interval: 5\n",
      "\n",
      "\n",
      "DataSet Before: \n",
      "    susceptible  exposed  infected_iv  infected_cv  recovered  dead  vaccinated  immunity\n",
      "0      1563490      100            0            0          0     0       10000         0\n",
      "1      1249034        0            0            0          0     0       10000         0\n",
      "2       980045        0            0            0          0     0        1000         0\n"
     ]
    }
   ],
   "source": [
    "optimize_SIR_model.optimize(time=15, interval=5, verbose=False)\n",
    "optimize_SEIR_model.optimize(time=15, interval=5, verbose=False)\n",
    "# optimize_SIRD_model.optimize(time=15, interval=5, verbose=False)\n",
    "optimize_SEIRD_model.optimize(time=15, interval=5, verbose=False)\n",
    "optimize_SEIivIcvRDVIm_model.optimize(time=15, interval=5, verbose=False)"
   ]
  },
  {
   "cell_type": "markdown",
   "metadata": {},
   "source": [
    "## Plot Optimized Models"
   ]
  },
  {
   "cell_type": "code",
   "execution_count": null,
   "metadata": {},
   "outputs": [],
   "source": [
    "Modelplot([optimize_SIR_model, optimize_SEIR_model, optimize_SIRD_model,\n",
    "                optimize_SEIRD_model, optimize_SEIivIcvRDVIm_model], plot_type=1)"
   ]
  }
 ],
 "metadata": {
  "kernelspec": {
   "display_name": "med_env",
   "language": "python",
   "name": "med_env"
  },
  "language_info": {
   "codemirror_mode": {
    "name": "ipython",
    "version": 3
   },
   "file_extension": ".py",
   "mimetype": "text/x-python",
   "name": "python",
   "nbconvert_exporter": "python",
   "pygments_lexer": "ipython3",
   "version": "3.10.4"
  }
 },
 "nbformat": 4,
 "nbformat_minor": 4
}
